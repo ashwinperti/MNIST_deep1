{
  "nbformat": 4,
  "nbformat_minor": 0,
  "metadata": {
    "colab": {
      "name": "MNIST-CNN.ipynb",
      "provenance": [],
      "authorship_tag": "ABX9TyNcbcXQER3KuEXyd86gYAzC",
      "include_colab_link": true
    },
    "kernelspec": {
      "name": "python3",
      "display_name": "Python 3"
    }
  },
  "cells": [
    {
      "cell_type": "markdown",
      "metadata": {
        "id": "view-in-github",
        "colab_type": "text"
      },
      "source": [
        "<a href=\"https://colab.research.google.com/github/ashwinperti/MNIST_deep1/blob/master/MNIST_CNN.ipynb\" target=\"_parent\"><img src=\"https://colab.research.google.com/assets/colab-badge.svg\" alt=\"Open In Colab\"/></a>"
      ]
    },
    {
      "cell_type": "code",
      "metadata": {
        "id": "TipMs89bvbnf"
      },
      "source": [
        "%matplotlib inline\n",
        "\n",
        "import os\n",
        "\n",
        "import torch\n",
        "import torch.nn as nn\n",
        "\n",
        "import torchvision\n",
        "import torchvision.transforms as transforms\n",
        "\n",
        "import numpy as np\n",
        "import matplotlib.pyplot as plt\n",
        "\n",
        "import sklearn\n",
        "from sklearn import metrics\n"
      ],
      "execution_count": null,
      "outputs": []
    },
    {
      "cell_type": "code",
      "metadata": {
        "colab": {
          "base_uri": "https://localhost:8080/"
        },
        "id": "liVL5JUtvhB4",
        "outputId": "786cb633-dc65-47ea-ff59-564a36b144d9"
      },
      "source": [
        "ckpt = './data/model'\n",
        "os.makedirs(ckpt, exist_ok=True)\n",
        "\n",
        "ckpt = os.path.join(ckpt, 'mnist_nn.pth')\n",
        "print(ckpt)"
      ],
      "execution_count": null,
      "outputs": [
        {
          "output_type": "stream",
          "text": [
            "./data/model/mnist_nn.pth\n"
          ],
          "name": "stdout"
        }
      ]
    },
    {
      "cell_type": "code",
      "metadata": {
        "id": "1dD10tV5vhOF"
      },
      "source": [
        "epochs=0\n",
        "# https://en.wikipedia.org/wiki/Standard_score\n",
        "mean = (0.5,)\n",
        "std = (0.5,)\n",
        "\n",
        "transform = transforms.Compose([transforms.ToTensor(), transforms.Normalize(mean, std)])\n"
      ],
      "execution_count": null,
      "outputs": []
    },
    {
      "cell_type": "code",
      "metadata": {
        "id": "GitXN7d5vhVL"
      },
      "source": [
        "ds_train = torchvision.datasets.MNIST(root='data', train=True, transform=transform, download=True)\n",
        "ds_test = torchvision.datasets.MNIST(root='data', train=False, transform=transform, download=True)\n"
      ],
      "execution_count": null,
      "outputs": []
    },
    {
      "cell_type": "code",
      "metadata": {
        "colab": {
          "base_uri": "https://localhost:8080/"
        },
        "id": "grmLkxj9vha4",
        "outputId": "6cba4602-cffc-43c4-af79-8c6a4a5fd717"
      },
      "source": [
        "print(len(ds_train))\n",
        "print(len(ds_test))"
      ],
      "execution_count": null,
      "outputs": [
        {
          "output_type": "stream",
          "text": [
            "60000\n",
            "10000\n"
          ],
          "name": "stdout"
        }
      ]
    },
    {
      "cell_type": "code",
      "metadata": {
        "colab": {
          "base_uri": "https://localhost:8080/"
        },
        "id": "tTNBhoB9wDnb",
        "outputId": "1cdd1028-eace-4c3a-f1cf-b4287983fbcb"
      },
      "source": [
        "loader_train = torch.utils.data.DataLoader(ds_train, batch_size=32, shuffle=True)\n",
        "loader_test = torch.utils.data.DataLoader(ds_test, batch_size=32, shuffle=True)\n",
        "\n",
        "print(len(loader_train), len(loader_test))"
      ],
      "execution_count": null,
      "outputs": [
        {
          "output_type": "stream",
          "text": [
            "1875 313\n"
          ],
          "name": "stdout"
        }
      ]
    },
    {
      "cell_type": "code",
      "metadata": {
        "id": "rN829t-pwGEp"
      },
      "source": [
        "images, labels = next(iter(loader_train))"
      ],
      "execution_count": null,
      "outputs": []
    },
    {
      "cell_type": "code",
      "metadata": {
        "colab": {
          "base_uri": "https://localhost:8080/"
        },
        "id": "6hME-IWtwGJO",
        "outputId": "a1bcec63-6f7f-4f58-9489-5ce9e7315085"
      },
      "source": [
        "print(images.shape)\n",
        "print(labels.shape)"
      ],
      "execution_count": null,
      "outputs": [
        {
          "output_type": "stream",
          "text": [
            "torch.Size([32, 1, 28, 28])\n",
            "torch.Size([32])\n"
          ],
          "name": "stdout"
        }
      ]
    },
    {
      "cell_type": "code",
      "metadata": {
        "colab": {
          "base_uri": "https://localhost:8080/"
        },
        "id": "iMiS69YawGNc",
        "outputId": "c6500865-eff6-4b19-da4a-73bb3f2ddefb"
      },
      "source": [
        "img = images[0]\n",
        "label = labels[0]\n",
        "print(img.shape)\n",
        "print(label)\n"
      ],
      "execution_count": null,
      "outputs": [
        {
          "output_type": "stream",
          "text": [
            "torch.Size([1, 28, 28])\n",
            "tensor(7)\n"
          ],
          "name": "stdout"
        }
      ]
    },
    {
      "cell_type": "code",
      "metadata": {
        "colab": {
          "base_uri": "https://localhost:8080/"
        },
        "id": "8FefFSPuwGQo",
        "outputId": "0875b8b5-7c28-4096-d32d-8437c76d75ef"
      },
      "source": [
        "img = img.squeeze()\n",
        "print(img.shape)\n"
      ],
      "execution_count": null,
      "outputs": [
        {
          "output_type": "stream",
          "text": [
            "torch.Size([28, 28])\n"
          ],
          "name": "stdout"
        }
      ]
    },
    {
      "cell_type": "code",
      "metadata": {
        "colab": {
          "base_uri": "https://localhost:8080/",
          "height": 265
        },
        "id": "m1Ys8lZhwGTo",
        "outputId": "99316499-b51d-4f8f-991b-4cd931fc8fb2"
      },
      "source": [
        "plt.imshow(img, cmap='gray_r');"
      ],
      "execution_count": null,
      "outputs": [
        {
          "output_type": "display_data",
          "data": {
            "image/png": "[encoded data removed]",
            "text/plain": [
              "<Figure size 432x288 with 1 Axes>"
            ]
          },
          "metadata": {
            "tags": [],
            "needs_background": "light"
          }
        }
      ]
    },
    {
      "cell_type": "code",
      "metadata": {
        "colab": {
          "base_uri": "https://localhost:8080/",
          "height": 297
        },
        "id": "zw7ygIVFwGYw",
        "outputId": "ec4ffe69-6d6a-4d25-fa52-f12330caa5f3"
      },
      "source": [
        "fig = plt.figure()\n",
        "\n",
        "for idx in range(25):\n",
        "    img = images[idx].squeeze()\n",
        "    label = labels[idx].numpy()\n",
        "    \n",
        "    plt.subplot(5, 5, idx+1)\n",
        "    plt.imshow(img, cmap='gray_r')\n",
        "    plt.title(label)\n",
        "    plt.axis('off')\n",
        "fig.tight_layout()\n"
      ],
      "execution_count": null,
      "outputs": [
        {
          "output_type": "display_data",
          "data": {
            "image/png": "[encoded data removed]",
            "text/plain": [
              "<Figure size 432x288 with 25 Axes>"
            ]
          },
          "metadata": {
            "tags": [],
            "needs_background": "light"
          }
        }
      ]
    },
    {
      "cell_type": "markdown",
      "metadata": {
        "id": "a4X4_P5Pw-sD"
      },
      "source": [
        "Activation Function\n",
        "\n",
        "    Activation functions introduce non-linearity\n",
        "    Sigmoid and tanh are other activation functions, however, these lead to vanishing gradients\n",
        "    ReLU is most popular activation function since 2017, f(x)=max(0,x)\n",
        "\n",
        "ReLU is not differentiable at x=0\n",
        "and that was the reason it was not used earlier, however, it was observed that ReLU is now observed that it is better that other activation function.\n",
        "During backpropogation, derivative is considered 0. Thus, for negative values, slope is 0 and for positive value, slope is 1.\n",
        "ReLU may also have problems due to negative value mapped to zero, but other variants like Leaky ReLU may be explored"
      ]
    },
    {
      "cell_type": "code",
      "metadata": {
        "id": "H0fR7x9bw677"
      },
      "source": [
        "def rectified_linear_function(x):\n",
        "\treturn max(0.0, x)\n"
      ],
      "execution_count": null,
      "outputs": []
    },
    {
      "cell_type": "markdown",
      "metadata": {
        "id": "mJwIPQEBxDgC"
      },
      "source": [
        "Computing Output size in the Convolutional Layer:\n",
        "\n",
        "    input−kernelsize+2∗Paddingstride+1\n",
        "\n",
        "nn.Conv2d(1,32,3,1)\n",
        "implies in_channels, out_channels, kernel_size, stride\n",
        "Input is (−1,1,28,28)\n",
        ", -1 is for batch size and 1, 28, 28 is for gray scale with 28x28\n",
        "nn.Conv2d(1,32,3,1)\n",
        "implies that we have input channels as 1 and we need output channels as 32 using kernel size as 3 and stride as 1\n",
        "Irrespective of other parameters output will have first two values −1,32\n",
        "and we can find other values as below\n",
        "Output from this should be 28−3+2∗01+1=26\n",
        ", this implies output will have (−1,32,26,26)\n",
        "nn.Conv2d(32,64,3,1)\n",
        "With input as (−1,32,26,26)\n",
        "\n",
        "    (−1, 64, , )\n",
        "\n",
        "26−3+2∗01+1=24\n",
        "(−1,64,24,24)\n",
        "\n",
        "nn.MaxPool2d(2,2)\n",
        "With input (−1,64,24,24)\n",
        "\n",
        "    (−1, 64, , )\n",
        "\n",
        "24−2+2∗02+1=12\n",
        "(−1,64,12,12)\n",
        "\n",
        "$ nn.Linear(641212, 128) $\n",
        "nn.Linear(128,10)"
      ]
    },
    {
      "cell_type": "code",
      "metadata": {
        "id": "dA1Nb8LKw7Dz"
      },
      "source": [
        "class Net(nn.Module):\n",
        "    def __init__(self):\n",
        "        super(Net, self).__init__()\n",
        "        # -1,1,28,28\n",
        "        self.conv1 = nn.Conv2d(1, 32, 3, 1) # -1,32,26,26\n",
        "        self.conv2 = nn.Conv2d(32, 64, 3, 1) # -1,64,24,24\n",
        "        self.pool = nn.MaxPool2d(2, 2) # -1,64,12,12\n",
        "        self.drop1 = nn.Dropout2d(0.25)\n",
        "        self.drop2 = nn.Dropout2d(0.50)\n",
        "        self.fc1 = nn.Linear(64*12*12, 128)\n",
        "        self.fc2 = nn.Linear(128, 10)\n",
        "        \n",
        "    def forward(self, x):\n",
        "        x = self.conv1(x)\n",
        "        x = torch.nn.functional.relu(x)  # https://discuss.pytorch.org/t/whats-the-difference-between-nn-relu-vs-f-relu/27599/2\n",
        "        \n",
        "        x = self.conv2(x)\n",
        "        x = torch.nn.functional.relu(x)\n",
        "        \n",
        "        x = self.pool(x)\n",
        "        x = self.drop1(x)\n",
        "        x = torch.flatten(x, 1)\n",
        "        \n",
        "        x = self.fc1(x)\n",
        "        x = torch.nn.functional.relu(x)\n",
        "        x = self.drop2(x)\n",
        "        \n",
        "        x = self.fc2(x)\n",
        "        \n",
        "        return x\n",
        "    \n",
        "model = Net()\n"
      ],
      "execution_count": null,
      "outputs": []
    },
    {
      "cell_type": "code",
      "metadata": {
        "colab": {
          "base_uri": "https://localhost:8080/"
        },
        "id": "eTeHEPoiw7IF",
        "outputId": "bb2eca41-74af-477d-abe1-46de04e83ea7"
      },
      "source": [
        "for param in model.parameters():\n",
        "    print(param.shape)"
      ],
      "execution_count": null,
      "outputs": [
        {
          "output_type": "stream",
          "text": [
            "torch.Size([32, 1, 3, 3])\n",
            "torch.Size([32])\n",
            "torch.Size([64, 32, 3, 3])\n",
            "torch.Size([64])\n",
            "torch.Size([128, 9216])\n",
            "torch.Size([128])\n",
            "torch.Size([10, 128])\n",
            "torch.Size([10])\n"
          ],
          "name": "stdout"
        }
      ]
    },
    {
      "cell_type": "code",
      "metadata": {
        "id": "uVrSWu4jw7Me"
      },
      "source": [
        "optimizer = torch.optim.SGD(model.parameters(), lr=0.01, momentum=0.9)"
      ],
      "execution_count": null,
      "outputs": []
    },
    {
      "cell_type": "code",
      "metadata": {
        "id": "xJR_hqlNxeUf"
      },
      "source": [
        "# Train One Epoch\n",
        "def train(loader):\n",
        "    running_loss = 0.0\n",
        "    running_acc = 0.0\n",
        "    \n",
        "    for data in loader:\n",
        "        inputs, labels = data\n",
        "        \n",
        "        #inputs = inputs.view(inputs.shape[0], -1) # Flatten the input\n",
        "        \n",
        "        optimizer.zero_grad()\n",
        "        with torch.set_grad_enabled(True):\n",
        "            outputs = model(inputs)\n",
        "        \n",
        "        loss = nn.CrossEntropyLoss()(outputs, labels)\n",
        "        loss.backward()\n",
        "        optimizer.step()\n",
        "        \n",
        "        running_loss += loss.item() # return python scalar from loss which is tensor with gradient enabled\n",
        "        \n",
        "        y_true = labels.numpy()\n",
        "        ps = torch.nn.functional.softmax(outputs, dim=1)\n",
        "        pred = ps.max(1, keepdim=True) # tuple of prob and index of max\n",
        "        y_pred = pred[1] # index\n",
        "        y_pred = y_pred.numpy()\n",
        "        \n",
        "        acc = metrics.accuracy_score(y_true, y_pred)\n",
        "        \n",
        "        running_acc += acc\n",
        "        \n",
        "    running_loss /= len(loader)\n",
        "    running_acc /= len(loader)\n",
        "    return running_loss, running_acc\n",
        "\n",
        "#train(loader_train)"
      ],
      "execution_count": null,
      "outputs": []
    },
    {
      "cell_type": "code",
      "metadata": {
        "id": "2a3yOmXOxjb2"
      },
      "source": [
        "# Test One Epoch\n",
        "def test(loader):\n",
        "    running_loss = 0.0\n",
        "    running_acc = 0.0\n",
        "    \n",
        "    for data in loader:\n",
        "        inputs, labels = data\n",
        "        \n",
        "        #inputs = inputs.view(inputs.shape[0], -1) # Flatten the input\n",
        "        \n",
        "        with torch.set_grad_enabled(False):\n",
        "            outputs = model(inputs)\n",
        "        \n",
        "        loss = nn.CrossEntropyLoss()(outputs, labels)\n",
        "        \n",
        "        running_loss += loss.item() # return python scalar from loss which is tensor with gradient enabled\n",
        "        \n",
        "        y_true = labels.numpy()\n",
        "        ps = torch.nn.functional.softmax(outputs, dim=1)\n",
        "        pred = ps.max(1, keepdim=True) # tuple of prob and index of max\n",
        "        y_pred = pred[1] # index\n",
        "        y_pred = y_pred.numpy()\n",
        "        \n",
        "        acc = metrics.accuracy_score(y_true, y_pred)\n",
        "        \n",
        "        running_acc += acc\n",
        "        \n",
        "    running_loss /= len(loader)\n",
        "    running_acc /= len(loader)\n",
        "    \n",
        "    return running_loss, running_acc\n",
        "\n",
        "#train(loader_test)"
      ],
      "execution_count": null,
      "outputs": []
    },
    {
      "cell_type": "code",
      "metadata": {
        "id": "TFEDlTHLxnWq"
      },
      "source": [
        "losses = {'train': [], 'test': []}\n",
        "acces = {'train': [], 'test': []}\n",
        "\n",
        "for epoch in range(epochs):\n",
        "    loss, acc = train(loader_train)\n",
        "    losses['train'].append(loss)\n",
        "    acces['train'].append(acc)\n",
        "    \n",
        "    print(f'Train Epoch: {epoch+1:2d}   Loss: {loss:.3f}   Acc: {acc:.3f}')\n",
        "    \n",
        "    loss, acc = test(loader_test)\n",
        "    losses['test'].append(loss)\n",
        "    acces['test'].append(acc)\n",
        "    \n",
        "    print(f'Test  Epoch: {epoch+1:2d}   Loss: {loss:.3f}   Acc: {acc:.3f}')\n",
        "    \n",
        "    print()\n",
        "    #break"
      ],
      "execution_count": null,
      "outputs": []
    },
    {
      "cell_type": "code",
      "metadata": {
        "id": "efBV7ddvy-EB"
      },
      "source": [
        "if epochs > 0:\n",
        "    ckpt_dict = {}\n",
        "    ckpt_dict['state_dict'] = model.state_dict()\n",
        "    ckpt_dict['losses'] = losses\n",
        "    ckpt_dict['acces'] = acces\n",
        "    torch.save(ckpt_dict, ckpt)"
      ],
      "execution_count": null,
      "outputs": []
    },
    {
      "cell_type": "code",
      "metadata": {
        "colab": {
          "base_uri": "https://localhost:8080/",
          "height": 400
        },
        "id": "7D7gWLOby13V",
        "outputId": "50abc4b1-22ee-4cab-da78-69d83ca8b4fe"
      },
      "source": [
        "ckpt_dict = torch.load(ckpt)\n",
        "\n",
        "model = ckpt_dict['state_dict']\n",
        "losses = ckpt_dict['losses']\n",
        "acces = ckpt_dict['acces']"
      ],
      "execution_count": null,
      "outputs": [
        {
          "output_type": "error",
          "ename": "FileNotFoundError",
          "evalue": "ignored",
          "traceback": [
            "\u001b[0;31m---------------------------------------------------------------------------\u001b[0m",
            "\u001b[0;31mFileNotFoundError\u001b[0m                         Traceback (most recent call last)",
            "\u001b[0;32m<ipython-input-66-1b8df35047b3>\u001b[0m in \u001b[0;36m<module>\u001b[0;34m()\u001b[0m\n\u001b[0;32m----> 1\u001b[0;31m \u001b[0mckpt_dict\u001b[0m \u001b[0;34m=\u001b[0m \u001b[0mtorch\u001b[0m\u001b[0;34m.\u001b[0m\u001b[0mload\u001b[0m\u001b[0;34m(\u001b[0m\u001b[0mckpt\u001b[0m\u001b[0;34m)\u001b[0m\u001b[0;34m\u001b[0m\u001b[0;34m\u001b[0m\u001b[0m\n\u001b[0m\u001b[1;32m      2\u001b[0m \u001b[0;34m\u001b[0m\u001b[0m\n\u001b[1;32m      3\u001b[0m \u001b[0mmodel\u001b[0m \u001b[0;34m=\u001b[0m \u001b[0mckpt_dict\u001b[0m\u001b[0;34m[\u001b[0m\u001b[0;34m'state_dict'\u001b[0m\u001b[0;34m]\u001b[0m\u001b[0;34m\u001b[0m\u001b[0;34m\u001b[0m\u001b[0m\n\u001b[1;32m      4\u001b[0m \u001b[0mlosses\u001b[0m \u001b[0;34m=\u001b[0m \u001b[0mckpt_dict\u001b[0m\u001b[0;34m[\u001b[0m\u001b[0;34m'losses'\u001b[0m\u001b[0;34m]\u001b[0m\u001b[0;34m\u001b[0m\u001b[0;34m\u001b[0m\u001b[0m\n\u001b[1;32m      5\u001b[0m \u001b[0macces\u001b[0m \u001b[0;34m=\u001b[0m \u001b[0mckpt_dict\u001b[0m\u001b[0;34m[\u001b[0m\u001b[0;34m'acces'\u001b[0m\u001b[0;34m]\u001b[0m\u001b[0;34m\u001b[0m\u001b[0;34m\u001b[0m\u001b[0m\n",
            "\u001b[0;32m/usr/local/lib/python3.6/dist-packages/torch/serialization.py\u001b[0m in \u001b[0;36mload\u001b[0;34m(f, map_location, pickle_module, **pickle_load_args)\u001b[0m\n\u001b[1;32m    579\u001b[0m         \u001b[0mpickle_load_args\u001b[0m\u001b[0;34m[\u001b[0m\u001b[0;34m'encoding'\u001b[0m\u001b[0;34m]\u001b[0m \u001b[0;34m=\u001b[0m \u001b[0;34m'utf-8'\u001b[0m\u001b[0;34m\u001b[0m\u001b[0;34m\u001b[0m\u001b[0m\n\u001b[1;32m    580\u001b[0m \u001b[0;34m\u001b[0m\u001b[0m\n\u001b[0;32m--> 581\u001b[0;31m     \u001b[0;32mwith\u001b[0m \u001b[0m_open_file_like\u001b[0m\u001b[0;34m(\u001b[0m\u001b[0mf\u001b[0m\u001b[0;34m,\u001b[0m \u001b[0;34m'rb'\u001b[0m\u001b[0;34m)\u001b[0m \u001b[0;32mas\u001b[0m \u001b[0mopened_file\u001b[0m\u001b[0;34m:\u001b[0m\u001b[0;34m\u001b[0m\u001b[0;34m\u001b[0m\u001b[0m\n\u001b[0m\u001b[1;32m    582\u001b[0m         \u001b[0;32mif\u001b[0m \u001b[0m_is_zipfile\u001b[0m\u001b[0;34m(\u001b[0m\u001b[0mopened_file\u001b[0m\u001b[0;34m)\u001b[0m\u001b[0;34m:\u001b[0m\u001b[0;34m\u001b[0m\u001b[0;34m\u001b[0m\u001b[0m\n\u001b[1;32m    583\u001b[0m             \u001b[0;31m# The zipfile reader is going to advance the current file position.\u001b[0m\u001b[0;34m\u001b[0m\u001b[0;34m\u001b[0m\u001b[0;34m\u001b[0m\u001b[0m\n",
            "\u001b[0;32m/usr/local/lib/python3.6/dist-packages/torch/serialization.py\u001b[0m in \u001b[0;36m_open_file_like\u001b[0;34m(name_or_buffer, mode)\u001b[0m\n\u001b[1;32m    228\u001b[0m \u001b[0;32mdef\u001b[0m \u001b[0m_open_file_like\u001b[0m\u001b[0;34m(\u001b[0m\u001b[0mname_or_buffer\u001b[0m\u001b[0;34m,\u001b[0m \u001b[0mmode\u001b[0m\u001b[0;34m)\u001b[0m\u001b[0;34m:\u001b[0m\u001b[0;34m\u001b[0m\u001b[0;34m\u001b[0m\u001b[0m\n\u001b[1;32m    229\u001b[0m     \u001b[0;32mif\u001b[0m \u001b[0m_is_path\u001b[0m\u001b[0;34m(\u001b[0m\u001b[0mname_or_buffer\u001b[0m\u001b[0;34m)\u001b[0m\u001b[0;34m:\u001b[0m\u001b[0;34m\u001b[0m\u001b[0;34m\u001b[0m\u001b[0m\n\u001b[0;32m--> 230\u001b[0;31m         \u001b[0;32mreturn\u001b[0m \u001b[0m_open_file\u001b[0m\u001b[0;34m(\u001b[0m\u001b[0mname_or_buffer\u001b[0m\u001b[0;34m,\u001b[0m \u001b[0mmode\u001b[0m\u001b[0;34m)\u001b[0m\u001b[0;34m\u001b[0m\u001b[0;34m\u001b[0m\u001b[0m\n\u001b[0m\u001b[1;32m    231\u001b[0m     \u001b[0;32melse\u001b[0m\u001b[0;34m:\u001b[0m\u001b[0;34m\u001b[0m\u001b[0;34m\u001b[0m\u001b[0m\n\u001b[1;32m    232\u001b[0m         \u001b[0;32mif\u001b[0m \u001b[0;34m'w'\u001b[0m \u001b[0;32min\u001b[0m \u001b[0mmode\u001b[0m\u001b[0;34m:\u001b[0m\u001b[0;34m\u001b[0m\u001b[0;34m\u001b[0m\u001b[0m\n",
            "\u001b[0;32m/usr/local/lib/python3.6/dist-packages/torch/serialization.py\u001b[0m in \u001b[0;36m__init__\u001b[0;34m(self, name, mode)\u001b[0m\n\u001b[1;32m    209\u001b[0m \u001b[0;32mclass\u001b[0m \u001b[0m_open_file\u001b[0m\u001b[0;34m(\u001b[0m\u001b[0m_opener\u001b[0m\u001b[0;34m)\u001b[0m\u001b[0;34m:\u001b[0m\u001b[0;34m\u001b[0m\u001b[0;34m\u001b[0m\u001b[0m\n\u001b[1;32m    210\u001b[0m     \u001b[0;32mdef\u001b[0m \u001b[0m__init__\u001b[0m\u001b[0;34m(\u001b[0m\u001b[0mself\u001b[0m\u001b[0;34m,\u001b[0m \u001b[0mname\u001b[0m\u001b[0;34m,\u001b[0m \u001b[0mmode\u001b[0m\u001b[0;34m)\u001b[0m\u001b[0;34m:\u001b[0m\u001b[0;34m\u001b[0m\u001b[0;34m\u001b[0m\u001b[0m\n\u001b[0;32m--> 211\u001b[0;31m         \u001b[0msuper\u001b[0m\u001b[0;34m(\u001b[0m\u001b[0m_open_file\u001b[0m\u001b[0;34m,\u001b[0m \u001b[0mself\u001b[0m\u001b[0;34m)\u001b[0m\u001b[0;34m.\u001b[0m\u001b[0m__init__\u001b[0m\u001b[0;34m(\u001b[0m\u001b[0mopen\u001b[0m\u001b[0;34m(\u001b[0m\u001b[0mname\u001b[0m\u001b[0;34m,\u001b[0m \u001b[0mmode\u001b[0m\u001b[0;34m)\u001b[0m\u001b[0;34m)\u001b[0m\u001b[0;34m\u001b[0m\u001b[0;34m\u001b[0m\u001b[0m\n\u001b[0m\u001b[1;32m    212\u001b[0m \u001b[0;34m\u001b[0m\u001b[0m\n\u001b[1;32m    213\u001b[0m     \u001b[0;32mdef\u001b[0m \u001b[0m__exit__\u001b[0m\u001b[0;34m(\u001b[0m\u001b[0mself\u001b[0m\u001b[0;34m,\u001b[0m \u001b[0;34m*\u001b[0m\u001b[0margs\u001b[0m\u001b[0;34m)\u001b[0m\u001b[0;34m:\u001b[0m\u001b[0;34m\u001b[0m\u001b[0;34m\u001b[0m\u001b[0m\n",
            "\u001b[0;31mFileNotFoundError\u001b[0m: [Errno 2] No such file or directory: './data/model/mnist_nn.pth'"
          ]
        }
      ]
    },
    {
      "cell_type": "code",
      "metadata": {
        "id": "l4RgPKpRw7R5"
      },
      "source": [
        "plt.plot(losses['train'], label='train')\n",
        "plt.plot(losses['test'], label='test')\n",
        "plt.legend();\n",
        "\n",
        "plt.plot(acces['train']);\n",
        "plt.plot(acces['test']);\n"
      ],
      "execution_count": null,
      "outputs": []
    },
    {
      "cell_type": "code",
      "metadata": {
        "id": "3cP9hDVpyZUJ"
      },
      "source": [
        "print(losses)"
      ],
      "execution_count": null,
      "outputs": []
    },
    {
      "cell_type": "code",
      "metadata": {
        "id": "kk6Z0IlLyXYS"
      },
      "source": [
        ""
      ],
      "execution_count": null,
      "outputs": []
    }
  ]
}